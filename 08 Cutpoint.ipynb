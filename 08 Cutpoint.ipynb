{
 "cells": [
  {
   "cell_type": "markdown",
   "id": "2ce9850a",
   "metadata": {},
   "source": [
    "### package"
   ]
  },
  {
   "cell_type": "code",
   "execution_count": 31,
   "id": "7344bf2f",
   "metadata": {},
   "outputs": [],
   "source": [
    "from sympy.solvers import solve\n",
    "\n",
    "from sympy import Symbol\n",
    "\n",
    "import numpy as np\n",
    "\n",
    "import matplotlib.pyplot as plt\n",
    "\n",
    "from matplotlib.ticker import MultipleLocator, FormatStrFormatter\n",
    "\n",
    "import os\n"
   ]
  },
  {
   "cell_type": "markdown",
   "id": "e8f895a1",
   "metadata": {},
   "source": [
    "### solve the equation\n",
    "\n",
    "\\begin{equation}\n",
    "\\begin{aligned}\n",
    " 1-(\\frac{(n-1)\\gamma+1}{1+n\\gamma})^{n}-\\frac{\\gamma}{1+\\gamma}=0\n",
    "\\end{aligned}\n",
    "\\label{eq:gamma}\n",
    "\\end{equation}"
   ]
  },
  {
   "cell_type": "code",
   "execution_count": 35,
   "id": "11f43959",
   "metadata": {},
   "outputs": [
    {
     "name": "stdout",
     "output_type": "stream",
     "text": [
      "****************************************************************************************************\n",
      "Current n is 2\n",
      "Current optimum is 1.618034\n",
      "****************************************************************************************************\n",
      "Current n is 3\n",
      "Current optimum is 1.649112\n",
      "****************************************************************************************************\n",
      "Current n is 4\n",
      "Current optimum is 1.665488\n",
      "****************************************************************************************************\n",
      "Current n is 5\n",
      "Current optimum is 1.675597\n",
      "****************************************************************************************************\n",
      "Current n is 6\n",
      "Current optimum is 1.682457\n",
      "****************************************************************************************************\n",
      "Current n is 7\n",
      "Current optimum is 1.687418\n",
      "****************************************************************************************************\n",
      "Current n is 8\n",
      "Current optimum is 1.691172\n",
      "****************************************************************************************************\n",
      "Current n is 9\n",
      "Current optimum is 1.694112\n",
      "****************************************************************************************************\n",
      "Current n is 10\n",
      "Current optimum is 1.696477\n",
      "****************************************************************************************************\n",
      "Current n is 11\n",
      "Current optimum is 1.698421\n",
      "****************************************************************************************************\n",
      "Current n is 12\n",
      "Current optimum is 1.700046\n",
      "****************************************************************************************************\n",
      "Current n is 13\n",
      "Current optimum is 1.701425\n",
      "****************************************************************************************************\n",
      "Current n is 14\n",
      "Current optimum is 1.702611\n",
      "****************************************************************************************************\n",
      "Current n is 15\n",
      "Current optimum is 1.703640\n",
      "****************************************************************************************************\n",
      "Current n is 16\n",
      "Current optimum is 1.704543\n",
      "****************************************************************************************************\n",
      "Current n is 17\n",
      "Current optimum is 1.705341\n",
      "****************************************************************************************************\n",
      "Current n is 18\n",
      "Current optimum is 1.706051\n",
      "****************************************************************************************************\n",
      "Current n is 19\n",
      "Current optimum is 1.706687\n",
      "****************************************************************************************************\n",
      "Current n is 20\n",
      "Current optimum is 1.707261\n"
     ]
    }
   ],
   "source": [
    "optimum={}\n",
    "\n",
    "for n in range(2,21,1):\n",
    "    \n",
    "    x = Symbol('x',nonnegative=True)\n",
    "\n",
    "    solution=solve(1-(((n-1)*x+1)/(1+n*x))**n-x/(1+x), x)\n",
    "\n",
    "    solution=[round(s,6) for s in solution if s.is_positive]\n",
    "    \n",
    "    optimum[n]=solution[0]\n",
    "    \n",
    "    print('*'*100)\n",
    "    \n",
    "    print('Current n is',n)\n",
    "    \n",
    "    print('Current optimum is',solution[0])\n",
    "    \n",
    "    \n",
    "# np.save('./data/optimum',optimum)\n"
   ]
  },
  {
   "cell_type": "markdown",
   "id": "c03e8ee1",
   "metadata": {},
   "source": [
    "### plot"
   ]
  },
  {
   "cell_type": "code",
   "execution_count": 36,
   "id": "61e622f0",
   "metadata": {},
   "outputs": [
    {
     "data": {
      "image/png": "[encoded data removed]",
      "text/plain": [
       "<Figure size 1080x432 with 1 Axes>"
      ]
     },
     "metadata": {
      "needs_background": "light"
     },
     "output_type": "display_data"
    }
   ],
   "source": [
    "font_legend = {'family' : 'Arial','weight' : 'normal','size': 20}\n",
    "\n",
    "font_title = {'family' : 'Arial','weight' : 'normal','size': 40}\n",
    "\n",
    "font_label = {'family' : 'Arial','weight' : 'normal','size': 25}\n",
    "\n",
    "Figure_path = './figures/'\n",
    "\n",
    "def background():\n",
    "\n",
    "    figsize = 15,6\n",
    "\n",
    "    figure, axs = plt.subplots(figsize=figsize)\n",
    "\n",
    "    font_label = {'family' : 'Arial','weight' : 'normal','size': 25}\n",
    "\n",
    "    labels = axs.get_xticklabels() + axs.get_yticklabels()\n",
    "\n",
    "    [label.set_fontsize(20) for label in labels]\n",
    "\n",
    "    [label.set_fontname('Times New Roman') for label in labels]\n",
    "\n",
    "    axs.grid()\n",
    "    \n",
    "    return axs\n",
    "\n",
    "axs=background()\n",
    "\n",
    "axs.plot(list(optimum.keys()),list(optimum.values()),linewidth=2,linestyle='--',color='cyan',marker='x',markersize=10,markeredgecolor='red')\n",
    "\n",
    "axs.set_xlabel('$n$',font_label)\n",
    "\n",
    "axs.set_ylabel('$\\gamma^{*}$',font_label)\n",
    "\n",
    "majorLocator   = MultipleLocator(1)\n",
    "\n",
    "axs.xaxis.set_major_locator(majorLocator) \n",
    "\n",
    "majorLocator   = MultipleLocator(.01)\n",
    "\n",
    "axs.yaxis.set_major_locator(majorLocator) \n",
    "\n",
    "plt.tight_layout()\n",
    "\n",
    "current_fig = plt.gcf() # 'get current figure'\n",
    "\n",
    "current_fig.savefig(os.path.join(Figure_path,'Optimum.eps'), format='eps', dpi=1000, bbox_inches = 'tight')\n",
    "\n",
    "plt.show()\n"
   ]
  },
  {
   "cell_type": "code",
   "execution_count": null,
   "id": "ad20dce3",
   "metadata": {},
   "outputs": [],
   "source": []
  }
 ],
 "metadata": {
  "kernelspec": {
   "display_name": "Python 3",
   "language": "python",
   "name": "python3"
  },
  "language_info": {
   "codemirror_mode": {
    "name": "ipython",
    "version": 3
   },
   "file_extension": ".py",
   "mimetype": "text/x-python",
   "name": "python",
   "nbconvert_exporter": "python",
   "pygments_lexer": "ipython3",
   "version": "3.8.8"
  }
 },
 "nbformat": 4,
 "nbformat_minor": 5
}
